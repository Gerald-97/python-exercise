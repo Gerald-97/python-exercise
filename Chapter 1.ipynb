{
 "cells": [
  {
   "cell_type": "markdown",
   "metadata": {},
   "source": [
    "## Types of Data\n",
    "\n",
    "__Tabular or spreadsheet-like data.__\n",
    "\n",
    "__Multidimensional arrays (matrices).__\n",
    "\n",
    "__Multiple tables of data interrelated by key columns.__\n",
    "\n",
    "__Evenly or unevenly spaced time series.__"
   ]
  },
  {
   "cell_type": "markdown",
   "metadata": {},
   "source": [
    "## Essential Python Libraries\n",
    "\n",
    "NumPy\n",
    "\n",
    "Pandas\n",
    "\n",
    "Matplotlib\n",
    "\n",
    "IPython and Jupyter\n",
    "\n",
    "SciPy\n",
    "\n",
    "scikit-learn\n",
    "\n",
    "statsmodels"
   ]
  },
  {
   "cell_type": "code",
   "execution_count": null,
   "metadata": {},
   "outputs": [],
   "source": []
  }
 ],
 "metadata": {
  "kernelspec": {
   "display_name": "Python 3",
   "language": "python",
   "name": "python3"
  },
  "language_info": {
   "codemirror_mode": {
    "name": "ipython",
    "version": 3
   },
   "file_extension": ".py",
   "mimetype": "text/x-python",
   "name": "python",
   "nbconvert_exporter": "python",
   "pygments_lexer": "ipython3",
   "version": "3.7.4"
  }
 },
 "nbformat": 4,
 "nbformat_minor": 2
}
